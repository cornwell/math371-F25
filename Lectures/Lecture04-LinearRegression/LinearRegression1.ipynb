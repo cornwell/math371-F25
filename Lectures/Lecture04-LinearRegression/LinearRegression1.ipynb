{
 "cells": [
  {
   "cell_type": "markdown",
   "metadata": {},
   "source": [
    "## Class Notebook 2"
   ]
  },
  {
   "cell_type": "code",
   "execution_count": null,
   "metadata": {},
   "outputs": [],
   "source": [
    "import numpy as np\n",
    "import pandas as pd\n",
    "import matplotlib.pyplot as plt\n",
    "# the seaborn parts below are not necessary when plotting, but give plots a nice style\n",
    "import seaborn \n",
    "seaborn.set_style('darkgrid')"
   ]
  },
  {
   "cell_type": "code",
   "execution_count": null,
   "metadata": {},
   "outputs": [],
   "source": [
    "# we use a function from Pandas (more on Pandas later) to \"read in\" data from CSV file\n",
    "example_data = pd.read_csv('example1.csv')"
   ]
  },
  {
   "cell_type": "code",
   "execution_count": null,
   "metadata": {},
   "outputs": [],
   "source": [
    "D = example_data[['x','y']].to_numpy() # this line turns the data into a two-column numpy array (each row is one point)\n",
    "D.shape"
   ]
  },
  {
   "cell_type": "code",
   "execution_count": null,
   "metadata": {},
   "outputs": [],
   "source": [
    "wstar, bstar = np.polyfit(D[:,0], D[:,1], 1) # carries out linear regression"
   ]
  },
  {
   "cell_type": "code",
   "execution_count": null,
   "metadata": {},
   "outputs": [],
   "source": [
    "# .scatter will plot dots (from array of x's, array of y's)\n",
    "plt.scatter(D[:,0], D[:,1], edgecolors='xkcd:midnight blue')\n",
    "# .plot will make a line between (x[0], y[0]) and (x[1], y[1])\n",
    "plt.plot([0, 2], [mhat*0+bhat, mhat*2+bhat], c='crimson')\n",
    "# display the plot\n",
    "plt.show()"
   ]
  },
  {
   "cell_type": "code",
   "execution_count": null,
   "metadata": {},
   "outputs": [],
   "source": []
  }
 ],
 "metadata": {
  "kernelspec": {
   "display_name": "Python 3",
   "language": "python",
   "name": "python3"
  },
  "language_info": {
   "codemirror_mode": {
    "name": "ipython",
    "version": 3
   },
   "file_extension": ".py",
   "mimetype": "text/x-python",
   "name": "python",
   "nbconvert_exporter": "python",
   "pygments_lexer": "ipython3",
   "version": "3.13.1"
  }
 },
 "nbformat": 4,
 "nbformat_minor": 2
}
