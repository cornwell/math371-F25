{
 "cells": [
  {
   "cell_type": "markdown",
   "id": "3945ac2b",
   "metadata": {},
   "source": [
    "## Class Notebook 1"
   ]
  },
  {
   "cell_type": "markdown",
   "id": "c1b228e3",
   "metadata": {},
   "source": [
    "### Variables, Lists, and Arrays\n",
    "\n",
    "Only import NumPy to complete the exercises. (Do this by executing the Code cell below this cell.)\n",
    "\n",
    "---"
   ]
  },
  {
   "cell_type": "code",
   "execution_count": 9,
   "id": "c5782042",
   "metadata": {},
   "outputs": [],
   "source": [
    "import numpy as np"
   ]
  },
  {
   "cell_type": "markdown",
   "id": "8b0ba9b9",
   "metadata": {},
   "source": [
    "1.  Complete the following two parts. \n",
    "* In the Code cell below that begins with `n = 100`, write a line of code that creates a 100x100 matrix so that every entry of the matrix is $-1$.  Assign this matrix to a variable `A`.\n",
    "* In the following cell, after assigning the matrix `A`, use either the function `np.diag()`, or `np.identity()`, in order to change `A` so that the entries on the diagonal have value $\\sqrt{2} - 1$ and the off-diagonal entries are still $-1$."
   ]
  },
  {
   "cell_type": "code",
   "execution_count": null,
   "id": "323a92b3",
   "metadata": {},
   "outputs": [],
   "source": [
    "n = 100\n",
    "# create and assign the matrix A here"
   ]
  },
  {
   "cell_type": "code",
   "execution_count": null,
   "id": "d8c49e26",
   "metadata": {},
   "outputs": [],
   "source": []
  },
  {
   "cell_type": "markdown",
   "id": "9342d024",
   "metadata": {},
   "source": [
    "---"
   ]
  },
  {
   "cell_type": "markdown",
   "id": "11168b9e",
   "metadata": {},
   "source": [
    "A `while` loop can be made in Python as follows. Say that you want to continue going through some code (in a loop), until a certain statement `my_condition` has value `False`. Then you can put \n",
    "```python\n",
    "while my_condition:\n",
    "    # put some code here\n",
    "    # as long as you indent, the code will run before checking my_condition again\n",
    "print('Now the loop is finished.') # will print after loop is done\n",
    "```"
   ]
  },
  {
   "cell_type": "markdown",
   "id": "2e840dcb",
   "metadata": {},
   "source": [
    "#### Notes.\n",
    "> Expect the statement `my_condition` to begin with value `True`;\n",
    "\n",
    "> the indented code should eventually cause `my_condition` to become `False`.\n",
    "\n",
    "**Example** ($\\downarrow$)"
   ]
  },
  {
   "cell_type": "code",
   "execution_count": 8,
   "id": "8e6d1453",
   "metadata": {},
   "outputs": [
    {
     "name": "stdout",
     "output_type": "stream",
     "text": [
      "Now, my_sum is equal to 15; it is the sum of numbers 1 through 5.\n"
     ]
    },
    {
     "data": {
      "text/plain": [
       "True"
      ]
     },
     "execution_count": 8,
     "metadata": {},
     "output_type": "execute_result"
    }
   ],
   "source": [
    "my_sum = 0\n",
    "next_number = 1\n",
    "while my_sum < 5*6/2:\n",
    "    my_sum += next_number\n",
    "    next_number += 1\n",
    "print(f'Now, my_sum is equal to {my_sum}; it is the sum of numbers 1 through {next_number-1}.')\n",
    "my_sum == 5*6/2  #This should evaluate as True."
   ]
  },
  {
   "cell_type": "markdown",
   "id": "5a3206e1",
   "metadata": {},
   "source": [
    "---\n",
    "\n",
    "For each positive integer $n$, we will generate a list as follows. The first number in the list is $n$, and if $n=1$ then it is also the last number. Otherwise, if $n$ is odd the second number in the list is $3n+1$, and if $n$ is even the second number is $n/2$. \n",
    "Continue recursively: after determining the second number, apply the same rules to it in order to find the third number, and continue this way until you get to the point that the number is $1$, which is last in the list.\n",
    "\n",
    "2. Below the two lines `n = 2` and `my_sequence = [n]`, write code that will assign to `my_sequence` the sequence of numbers just described. For example, in the `n=2` case, `my_sequence` should be `[2, 1]`. If you change to `n=3`, then `my_sequence` should be `[3,10,5,16,8,4,2,1]`. "
   ]
  },
  {
   "cell_type": "code",
   "execution_count": null,
   "id": "77abcde1",
   "metadata": {},
   "outputs": [],
   "source": [
    "# complete exercise 2 here\n",
    "n = 2\n",
    "my_sequence = [n]\n",
    "# replace this with a while statement about n\n",
    "    if n%2 == 0:\n",
    "        # write in how n should change (reassign the variable n)\n",
    "    else:\n",
    "        # reassign variable n in this case\n",
    "    my_sequence.append(n) # in this line, next number in the list becomes the new value of n\n",
    "print(my_sequence)"
   ]
  },
  {
   "cell_type": "markdown",
   "id": "9373c482",
   "metadata": {},
   "source": [
    "---"
   ]
  }
 ],
 "metadata": {
  "kernelspec": {
   "display_name": "Python 3",
   "language": "python",
   "name": "python3"
  },
  "language_info": {
   "codemirror_mode": {
    "name": "ipython",
    "version": 3
   },
   "file_extension": ".py",
   "mimetype": "text/x-python",
   "name": "python",
   "nbconvert_exporter": "python",
   "pygments_lexer": "ipython3",
   "version": "3.13.1"
  }
 },
 "nbformat": 4,
 "nbformat_minor": 5
}
